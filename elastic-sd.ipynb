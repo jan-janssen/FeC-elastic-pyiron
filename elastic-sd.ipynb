{
 "cells": [
  {
   "cell_type": "code",
   "execution_count": 1,
   "metadata": {},
   "outputs": [],
   "source": [
    "%matplotlib inline"
   ]
  },
  {
   "cell_type": "code",
   "execution_count": 2,
   "metadata": {},
   "outputs": [],
   "source": [
    "import matplotlib.pyplot as plt"
   ]
  },
  {
   "cell_type": "code",
   "execution_count": 3,
   "metadata": {},
   "outputs": [
    {
     "name": "stderr",
     "output_type": "stream",
     "text": [
      "2022-11-07 15:42:03,197 - pyiron_log - WARNING - Configuration file may be read by others - check permissions to secure credential information!\n"
     ]
    }
   ],
   "source": [
    "from pyiron import Project"
   ]
  },
  {
   "cell_type": "code",
   "execution_count": 4,
   "metadata": {},
   "outputs": [],
   "source": [
    "from pyiron.atomistics.structure.atoms import Atoms"
   ]
  },
  {
   "cell_type": "code",
   "execution_count": 5,
   "metadata": {},
   "outputs": [],
   "source": [
    "pr = Project(\"elastic\")"
   ]
  },
  {
   "cell_type": "code",
   "execution_count": 6,
   "metadata": {},
   "outputs": [
    {
     "data": {
      "application/vnd.jupyter.widget-view+json": {
       "model_id": "dcf3beb264344e158cf2d7617ac76d35",
       "version_major": 2,
       "version_minor": 0
      },
      "text/plain": [
       "  0%|          | 0/123 [00:00<?, ?it/s]"
      ]
     },
     "metadata": {},
     "output_type": "display_data"
    }
   ],
   "source": [
    "pr.remove_jobs(silently=True, recursive=True)"
   ]
  },
  {
   "cell_type": "code",
   "execution_count": 7,
   "metadata": {},
   "outputs": [],
   "source": [
    "potential = '2008--Hepburn-D-J--Fe-C--LAMMPS--ipr1'"
   ]
  },
  {
   "cell_type": "code",
   "execution_count": 8,
   "metadata": {},
   "outputs": [
    {
     "name": "stderr",
     "output_type": "stream",
     "text": [
      "/var/folders/k2/n2qshtcj1ps0tnqwt7017g7h0013yf/T/ipykernel_57075/1556412784.py:1: DeprecationWarning: pyiron_atomistics.project.create_ase_bulk is deprecated: Use create.struture.bulk instead.\n",
      "  structure = pr.create_ase_bulk(\"Fe\", cubic=True)\n"
     ]
    }
   ],
   "source": [
    "structure = pr.create_ase_bulk(\"Fe\", cubic=True)"
   ]
  },
  {
   "cell_type": "markdown",
   "metadata": {},
   "source": [
    "# Class definition"
   ]
  },
  {
   "cell_type": "code",
   "execution_count": 9,
   "metadata": {},
   "outputs": [],
   "source": [
    "# coding: utf-8\n",
    "# Copyright (c) Max-Planck-Institut für Eisenforschung GmbH - Computational Materials Design (CM) Department\n",
    "# Distributed under the terms of \"GPLv3\", see the LICENSE file.\n",
    "\n",
    "from collections import OrderedDict\n",
    "\n",
    "import numpy as np\n",
    "import spglib\n",
    "import scipy.constants\n",
    "from pyiron_atomistics.atomistics.master.parallel import AtomisticParallelMaster\n",
    "from pyiron_base import JobGenerator\n",
    "\n",
    "__author__ = \"Yury Lysogorskiy\"\n",
    "__copyright__ = \"Copyright 2020, Max-Planck-Institut für Eisenforschung GmbH - Computational Materials Design (CM) Department\"\n",
    "__version__ = \"1.0\"\n",
    "__maintainer__ = \"Jan Janssen\"\n",
    "__email__ = \"janssen@mpie.de\"\n",
    "__status__ = \"development\"\n",
    "__date__ = \"Sep 1, 2017\"\n",
    "\n",
    "\n",
    "def find_symmetry_group_number(struct):\n",
    "    dataset = spglib.get_symmetry_dataset(struct)\n",
    "    SGN = dataset[\"number\"]\n",
    "    return SGN\n",
    "\n",
    "\n",
    "# Ref. Com. Phys. Comm. 184 (2013) 1861-1873\n",
    "# and ElaStic source code\n",
    "# for more details\n",
    "# http://exciting-code.org/elastic\n",
    "Ls_Dic = {\n",
    "    '01': [1., 1., 1., 0., 0., 0.],\n",
    "    '02': [1., 0., 0., 0., 0., 0.],\n",
    "    '03': [0., 1., 0., 0., 0., 0.],\n",
    "    '04': [0., 0., 1., 0., 0., 0.],\n",
    "    '05': [0., 0., 0., 2., 0., 0.],\n",
    "    '06': [0., 0., 0., 0., 2., 0.],\n",
    "    '07': [0., 0., 0., 0., 0., 2.],\n",
    "    '08': [1., 1., 0., 0., 0., 0.],\n",
    "    '09': [1., 0., 1., 0., 0., 0.],\n",
    "    '10': [1., 0., 0., 2., 0., 0.],\n",
    "    '11': [1., 0., 0., 0., 2., 0.],\n",
    "    '12': [1., 0., 0., 0., 0., 2.],\n",
    "    '13': [0., 1., 1., 0., 0., 0.],\n",
    "    '14': [0., 1., 0., 2., 0., 0.],\n",
    "    '15': [0., 1., 0., 0., 2., 0.],\n",
    "    '16': [0., 1., 0., 0., 0., 2.],\n",
    "    '17': [0., 0., 1., 2., 0., 0.],\n",
    "    '18': [0., 0., 1., 0., 2., 0.],\n",
    "    '19': [0., 0., 1., 0., 0., 2.],\n",
    "    '20': [0., 0., 0., 2., 2., 0.],\n",
    "    '21': [0., 0., 0., 2., 0., 2.],\n",
    "    '22': [0., 0., 0., 0., 2., 2.],\n",
    "    '23': [0., 0., 0., 2., 2., 2.],\n",
    "    '24': [-1., .5, .5, 0., 0., 0.],\n",
    "    '25': [.5, -1., .5, 0., 0., 0.],\n",
    "    '26': [.5, .5, -1., 0., 0., 0.],\n",
    "    '27': [1., -1., 0., 0., 0., 0.],\n",
    "    '28': [1., -1., 0., 0., 0., 2.],\n",
    "    '29': [0., 1., -1., 0., 0., 2.],\n",
    "    '30': [.5, .5, -1., 0., 0., 2.],\n",
    "    '31': [1., 0., 0., 2., 2., 0.],\n",
    "    '32': [1., 1., -1., 0., 0., 0.],\n",
    "    '33': [1., 1., 1., -2., -2., -2.],\n",
    "    '34': [.5, .5, -1., 2., 2., 2.],\n",
    "    '35': [0., 0., 0., 2., 2., 4.],\n",
    "    '36': [1., 2., 3., 4., 5., 6.],\n",
    "    '37': [-2., 1., 4., -3., 6., -5.],\n",
    "    '38': [3., -5., -1., 6., 2., -4.],\n",
    "    '39': [-4., -6., 5., 1., -3., 2.],\n",
    "    '40': [5., 4., 6., -2., -1., -3.],\n",
    "    '41': [-6., 3., -2., 5., -4., 1.]}\n",
    "\n",
    "\n",
    "def get_symmetry_family_from_SGN(SGN):\n",
    "    if 1 <= SGN <= 2:  # Triclinic\n",
    "        LC = 'N'\n",
    "    elif 3 <= SGN <= 15:  # Monoclinic\n",
    "        LC = 'M'\n",
    "    elif 16 <= SGN <= 74:  # Orthorhombic\n",
    "        LC = 'O'\n",
    "    elif 75 <= SGN <= 88:  # Tetragonal II\n",
    "        LC = 'TII'\n",
    "    elif 89 <= SGN <= 142:  # Tetragonal I\n",
    "        LC = 'TI'\n",
    "    elif 143 <= SGN <= 148:  # Rhombohedral II\n",
    "        LC = 'RII'\n",
    "    elif 149 <= SGN <= 167:  # Rhombohedral I\n",
    "        LC = 'RI'\n",
    "    elif 168 <= SGN <= 176:  # Hexagonal II\n",
    "        LC = 'HII'\n",
    "    elif 177 <= SGN <= 194:  # Hexagonal I\n",
    "        LC = 'HI'\n",
    "    elif 195 <= SGN <= 206:  # Cubic II\n",
    "        LC = 'CII'\n",
    "    elif 207 <= SGN <= 230:  # Cubic I\n",
    "        LC = 'CI'\n",
    "    else:\n",
    "        raise ValueError('SGN should be 1 <= SGN <= 230')\n",
    "    return LC\n",
    "\n",
    "\n",
    "def get_LAG_Strain_List(LC):\n",
    "    if LC == 'CI' or LC == 'CII':\n",
    "        Lag_strain_list = ['01', '08', '23']\n",
    "    elif LC == 'HI' or LC == 'HII':\n",
    "        Lag_strain_list = ['01', '26', '04', '03', '17']\n",
    "    elif LC == 'RI':\n",
    "        Lag_strain_list = ['01', '08', '04', '02', '05', '10']\n",
    "    elif LC == 'RII':\n",
    "        Lag_strain_list = ['01', '08', '04', '02', '05', '10', '11']\n",
    "    elif LC == 'TI':\n",
    "        Lag_strain_list = ['01', '26', '27', '04', '05', '07']\n",
    "    elif LC == 'TII':\n",
    "        Lag_strain_list = ['01', '26', '27', '28', '04', '05', '07']\n",
    "    elif LC == 'O':\n",
    "        Lag_strain_list = ['01', '26', '25', '27', '03', '04', '05', '06', '07']\n",
    "    elif LC == 'M':\n",
    "        Lag_strain_list = ['01', '25', '24', '28', '29', '27', '20', '12', '03', '04', '05', '06', '07']\n",
    "    else:  # (LC == 'N'):\n",
    "        Lag_strain_list = ['02', '03', '04', '05', '06', '07', '08', '09', '10', '11',\n",
    "                           '12', '13', '14', '15', '16', '17', '18', '19', '20', '21', '22']\n",
    "    return Lag_strain_list\n",
    "\n",
    "\n",
    "def get_C_from_A2(A2, LC):\n",
    "    C = np.zeros((6, 6))\n",
    "\n",
    "    # %!%!%--- Cubic structures ---%!%!%!%!%!%!%!%!%!%!%!%!%!%!%!%!%!%!%!%!%!%!%!%!%!%!%!%!%!%!%!%!%!%!%\n",
    "    if LC == 'CI' or LC == 'CII':\n",
    "        C[0, 0] = -2. * (A2[0] - 3. * A2[1]) / 3.\n",
    "        C[1, 1] = C[0, 0]\n",
    "        C[2, 2] = C[0, 0]\n",
    "        C[3, 3] = A2[2] / 6.\n",
    "        C[4, 4] = C[3, 3]\n",
    "        C[5, 5] = C[3, 3]\n",
    "        C[0, 1] = (2. * A2[0] - 3. * A2[1]) / 3.\n",
    "        C[0, 2] = C[0, 1]\n",
    "        C[1, 2] = C[0, 1]\n",
    "    # --------------------------------------------------------------------------------------------------\n",
    "\n",
    "    # %!%!%--- Hexagonal structures ---%!%!%!%!%!%!%!%!%!%!%!%!%!%!%!%!%!%!%!%!%!%!%!%!%!%!%!%!%!%!%!%!%\n",
    "    if LC == 'HI' or LC == 'HII':\n",
    "        C[0, 0] = 2. * A2[3]\n",
    "        C[0, 1] = 2. / 3. * A2[0] + 4. / 3. * A2[1] - 2. * A2[2] - 2. * A2[3]\n",
    "        C[0, 2] = 1. / 6. * A2[0] - 2. / 3. * A2[1] + 0.5 * A2[2]\n",
    "        C[1, 1] = C[0, 0]\n",
    "        C[1, 2] = C[0, 2]\n",
    "        C[2, 2] = 2. * A2[2]\n",
    "        C[3, 3] = -0.5 * A2[2] + 0.5 * A2[4]\n",
    "        C[4, 4] = C[3, 3]\n",
    "        C[5, 5] = .5 * (C[0, 0] - C[0, 1])\n",
    "    # --------------------------------------------------------------------------------------------------\n",
    "\n",
    "    # %!%!%--- Rhombohedral I structures ---%!%!%!%!%!%!%!%!%!%!%!%!%!%!%!%!%!%!%!%!%!%!%!%!%!%!%!%!%!%!\n",
    "    if LC == 'RI':\n",
    "        C[0, 0] = 2. * A2[3]\n",
    "        C[0, 1] = A2[1] - 2. * A2[3]\n",
    "        C[0, 2] = .5 * (A2[0] - A2[1] - A2[2])\n",
    "        C[0, 3] = .5 * (-A2[3] - A2[4] + A2[5])\n",
    "        C[1, 1] = C[0, 0]\n",
    "        C[1, 2] = C[0, 2]\n",
    "        C[1, 3] = -C[0, 3]\n",
    "        C[2, 2] = 2. * A2[2]\n",
    "        C[3, 3] = .5 * A2[4]\n",
    "        C[4, 4] = C[3, 3]\n",
    "        C[4, 5] = C[0, 3]\n",
    "        C[5, 5] = .5 * (C[0, 0] - C[0, 1])\n",
    "    # --------------------------------------------------------------------------------------------------\n",
    "\n",
    "    # %!%!%--- Rhombohedral II structures ---%!%!%!%!%!%!%!%!%!%!%!%!%!%!%!%!%!%!%!%!%!%!%!%!%!%!%!%!%!%\n",
    "    if LC == 'RII':\n",
    "        C[0, 0] = 2. * A2[3]\n",
    "        C[0, 1] = A2[1] - 2. * A2[3]\n",
    "        C[0, 2] = .5 * (A2[0] - A2[1] - A2[2])\n",
    "        C[0, 3] = .5 * (-A2[3] - A2[4] + A2[5])\n",
    "        C[0, 4] = .5 * (-A2[3] - A2[4] + A2[6])\n",
    "        C[1, 1] = C[0, 0]\n",
    "        C[1, 2] = C[0, 2]\n",
    "        C[1, 3] = -C[0, 3]\n",
    "        C[1, 4] = -C[0, 4]\n",
    "        C[2, 2] = 2. * A2[2]\n",
    "        C[3, 3] = .5 * A2[4]\n",
    "        C[3, 5] = -C[0, 4]\n",
    "        C[4, 4] = C[3, 3]\n",
    "        C[4, 5] = C[0, 3]\n",
    "        C[5, 5] = .5 * (C[0, 0] - C[0, 1])\n",
    "    # --------------------------------------------------------------------------------------------------\n",
    "\n",
    "    # %!%!%--- Tetragonal I structures ---%!%!%!%!%!%!%!%!%!%!%!%!%!%!%!%!%!%!%!%!%!%!%!%!%!%!%!%!%!%!%!\n",
    "    if LC == 'TI':\n",
    "        C[0, 0] = (A2[0] + 2. * A2[1]) / 3. + .5 * A2[2] - A2[3]\n",
    "        C[0, 1] = (A2[0] + 2. * A2[1]) / 3. - .5 * A2[2] - A2[3]\n",
    "        C[0, 2] = A2[0] / 6. - 2. * A2[1] / 3. + .5 * A2[3]\n",
    "        C[1, 1] = C[0, 0]\n",
    "        C[1, 2] = C[0, 2]\n",
    "        C[2, 2] = 2. * A2[3]\n",
    "        C[3, 3] = .5 * A2[4]\n",
    "        C[4, 4] = C[3, 3]\n",
    "        C[5, 5] = .5 * A2[5]\n",
    "    # --------------------------------------------------------------------------------------------------\n",
    "\n",
    "    # %!%!%--- Tetragonal II structures ---%!%!%!%!%!%!%!%!%!%!%!%!%!%!%!%!%!%!%!%!%!%!%!%!%!%!%!%!%!%!%\n",
    "    if LC == 'TII':\n",
    "        C[0, 0] = (A2[0] + 2. * A2[1]) / 3. + .5 * A2[2] - A2[4]\n",
    "        C[1, 1] = C[0, 0]\n",
    "        C[0, 1] = (A2[0] + 2. * A2[1]) / 3. - .5 * A2[2] - A2[4]\n",
    "        C[0, 2] = A2[0] / 6. - (2. / 3.) * A2[1] + .5 * A2[4]\n",
    "        C[0, 5] = (-A2[2] + A2[3] - A2[6]) / 4.\n",
    "        C[1, 2] = C[0, 2]\n",
    "        C[1, 5] = -C[0, 5]\n",
    "        C[2, 2] = 2. * A2[4]\n",
    "        C[3, 3] = .5 * A2[5]\n",
    "        C[4, 4] = C[3, 3]\n",
    "        C[5, 5] = .5 * A2[6]\n",
    "    # --------------------------------------------------------------------------------------------------\n",
    "\n",
    "    # %!%!%--- Orthorhombic structures ---%!%!%!%!%!%!%!%!%!%!%!%!%!%!%!%!%!%!%!%!%!%!%!%!%!%!%!%!%!%!%!\n",
    "    if LC == 'O':\n",
    "        C[0, 0] = 2. * A2[0] / 3. + 4. * A2[1] / 3. + A2[3] - 2. * A2[4] - 2. * A2[5]\n",
    "        C[0, 1] = 1. * A2[0] / 3. + 2. * A2[1] / 3. - .5 * A2[3] - A2[5]\n",
    "        C[0, 2] = 1. * A2[0] / 3. - 2. * A2[1] / 3. + 4. * A2[2] / 3. - .5 * A2[3] - A2[4]\n",
    "        C[1, 1] = 2. * A2[4]\n",
    "        C[1, 2] = -2. * A2[1] / 3. - 4. * A2[2] / 3. + .5 * A2[3] + A2[4] + A2[5]\n",
    "        C[2, 2] = 2. * A2[5]\n",
    "        C[3, 3] = .5 * A2[6]\n",
    "        C[4, 4] = .5 * A2[7]\n",
    "        C[5, 5] = .5 * A2[8]\n",
    "    # --------------------------------------------------------------------------------------------------\n",
    "\n",
    "    # %!%!%--- Monoclinic structures ---%!%!%!%!%!%!%!%!%!%!%!%!%!%!%!%!%!%!%!%!%!%!%!%!%!%!%!%!%!%!%!%!\n",
    "    if LC == 'M':\n",
    "        C[0, 0] = 2. * A2[0] / 3. + 8. * (A2[1] + A2[2]) / 3. - 2. * (A2[5] + A2[8] + A2[9])\n",
    "        C[0, 1] = A2[0] / 3. + 4. * (A2[1] + A2[2]) / 3. - 2. * A2[5] - A2[9]\n",
    "        C[0, 2] = (A2[0] - 4. * A2[2]) / 3. + A2[5] - A2[8]\n",
    "        C[0, 5] = -1. * A2[0] / 6. - 2. * (A2[1] + A2[2]) / 3. + .5 * (A2[5] + A2[7] + A2[8] + A2[9] - A2[12])\n",
    "        C[1, 1] = 2. * A2[8]\n",
    "        C[1, 2] = -4. * (2. * A2[1] + A2[2]) / 3. + 2. * A2[5] + A2[8] + A2[9] + A2[12]\n",
    "        C[1, 5] = -1. * A2[0] / 6. - 2. * (A2[1] + A2[2]) / 3. - .5 * A2[3] + A2[5] + .5 * (A2[7] + A2[8] + A2[9])\n",
    "        C[2, 2] = 2. * A2[9]\n",
    "        C[2, 5] = -1. * A2[0] / 6. + 2. * A2[1] / 3. - .5 * (A2[3] + A2[4] - A2[7] - A2[8] - A2[9] - A2[12])\n",
    "        C[3, 3] = .5 * A2[10]\n",
    "        C[3, 4] = .25 * (A2[6] - A2[10] - A2[11])\n",
    "        C[4, 4] = .5 * A2[11]\n",
    "        C[5, 5] = .5 * A2[12]\n",
    "    # --------------------------------------------------------------------------------------------------\n",
    "\n",
    "    # %!%!%--- Triclinic structures ---%!%!%!%!%!%!%!%!%!%!%!%!%!%!%!%!%!%!%!%!%!%!%!%!%!%!%!%!%!%!%!%!%\n",
    "    if LC == 'N':\n",
    "        C[0, 0] = 2. * A2[0]\n",
    "        C[0, 1] = 1. * (-A2[0] - A2[1] + A2[6])\n",
    "        C[0, 2] = 1. * (-A2[0] - A2[2] + A2[7])\n",
    "        C[0, 3] = .5 * (-A2[0] - A2[3] + A2[8])\n",
    "        C[0, 4] = .5 * (-A2[0] + A2[9] - A2[4])\n",
    "        C[0, 5] = .5 * (-A2[0] + A2[10] - A2[5])\n",
    "        C[1, 1] = 2. * A2[1]\n",
    "        C[1, 2] = 1. * (A2[11] - A2[1] - A2[2])\n",
    "        C[1, 3] = .5 * (A2[12] - A2[1] - A2[3])\n",
    "        C[1, 4] = .5 * (A2[13] - A2[1] - A2[4])\n",
    "        C[1, 5] = .5 * (A2[14] - A2[1] - A2[5])\n",
    "        C[2, 2] = 2. * A2[2]\n",
    "        C[2, 3] = .5 * (A2[15] - A2[2] - A2[3])\n",
    "        C[2, 4] = .5 * (A2[16] - A2[2] - A2[4])\n",
    "        C[2, 5] = .5 * (A2[17] - A2[2] - A2[5])\n",
    "        C[3, 3] = .5 * A2[3]\n",
    "        C[3, 4] = .25 * (A2[18] - A2[3] - A2[4])\n",
    "        C[3, 5] = .25 * (A2[19] - A2[3] - A2[5])\n",
    "        C[4, 4] = .5 * A2[4]\n",
    "        C[4, 5] = .25 * (A2[20] - A2[4] - A2[5])\n",
    "        C[5, 5] = .5 * A2[5]\n",
    "    return C\n",
    "\n",
    "\n",
    "class ElasticMatrixCalculator(object):\n",
    "    def __init__(self, basis_ref, num_of_point=5, eps_range=0.005, sqrt_eta=True, fit_order=2):\n",
    "        self.basis_ref = basis_ref.copy()\n",
    "        self.num_of_point = num_of_point\n",
    "        self.eps_range = eps_range\n",
    "        self.sqrt_eta = sqrt_eta\n",
    "        self.fit_order = fit_order\n",
    "        self._data = OrderedDict()\n",
    "        self._structure_dict = OrderedDict()\n",
    "        self.SGN = None\n",
    "        self.v0 = None\n",
    "        self.LC = None\n",
    "        self.Lag_strain_list = []\n",
    "        self.epss = np.array([])\n",
    "        self.zero_strain_job_name = \"s_e_0\"\n",
    "\n",
    "    def symmetry_analysis(self):\n",
    "        \"\"\"\n",
    "\n",
    "        Returns:\n",
    "\n",
    "        \"\"\"\n",
    "        self.SGN = find_symmetry_group_number(self.basis_ref)\n",
    "        self._data[\"SGN\"] = self.SGN\n",
    "        self.v0 = self.basis_ref.get_volume()\n",
    "        self._data[\"v0\"] = self.v0\n",
    "        self.LC = get_symmetry_family_from_SGN(self.SGN)\n",
    "        self._data[\"LC\"] = self.LC\n",
    "        self.Lag_strain_list = get_LAG_Strain_List(self.LC)\n",
    "        self._data[\"Lag_strain_list\"] = self.Lag_strain_list\n",
    "        self.epss = np.linspace(-self.eps_range, self.eps_range, self.num_of_point)\n",
    "        self._data[\"epss\"] = self.epss\n",
    "\n",
    "    def generate_structures(self):\n",
    "        \"\"\"\n",
    "\n",
    "        Returns:\n",
    "\n",
    "        \"\"\"\n",
    "        self.symmetry_analysis()\n",
    "        basis_ref = self.basis_ref\n",
    "        Lag_strain_list = self.Lag_strain_list\n",
    "        epss = self.epss\n",
    "\n",
    "        if 0.0 in epss:\n",
    "            self._structure_dict[self.zero_strain_job_name] = basis_ref.copy()\n",
    "\n",
    "        for lag_strain in Lag_strain_list:\n",
    "            Ls_list = Ls_Dic[lag_strain]\n",
    "            for eps in epss:\n",
    "\n",
    "                if eps == 0.0:\n",
    "                    continue\n",
    "\n",
    "                Ls = np.zeros(6)\n",
    "                for ii in range(6):\n",
    "                    Ls[ii] = Ls_list[ii]\n",
    "                Lv = eps * Ls\n",
    "\n",
    "                eta_matrix = np.zeros((3, 3))\n",
    "\n",
    "                eta_matrix[0, 0] = Lv[0]\n",
    "                eta_matrix[0, 1] = Lv[5] / 2.\n",
    "                eta_matrix[0, 2] = Lv[4] / 2.\n",
    "\n",
    "                eta_matrix[1, 0] = Lv[5] / 2.\n",
    "                eta_matrix[1, 1] = Lv[1]\n",
    "                eta_matrix[1, 2] = Lv[3] / 2.\n",
    "\n",
    "                eta_matrix[2, 0] = Lv[4] / 2.\n",
    "                eta_matrix[2, 1] = Lv[3] / 2.\n",
    "                eta_matrix[2, 2] = Lv[2]\n",
    "\n",
    "                norm = 1.0\n",
    "                eps_matrix = eta_matrix\n",
    "                if np.linalg.norm(eta_matrix) > 0.7:\n",
    "                    raise Exception(\"Too large deformation %g\" % eps)\n",
    "\n",
    "                if self.sqrt_eta:\n",
    "                    while norm > 1.e-10:\n",
    "                        x = eta_matrix - np.dot(eps_matrix, eps_matrix) / 2.\n",
    "                        norm = np.linalg.norm(x - eps_matrix)\n",
    "                        eps_matrix = x\n",
    "\n",
    "                # --- Calculating the M_new matrix ---------------------------------------------------------\n",
    "                i_matrix = np.array([[1., 0., 0.],\n",
    "                                     [0., 1., 0.],\n",
    "                                     [0., 0., 1.]])\n",
    "                def_matrix = i_matrix + eps_matrix\n",
    "                scell = np.dot(basis_ref.get_cell(), def_matrix)\n",
    "                nstruct = basis_ref.copy()\n",
    "                nstruct.set_cell(scell, scale_atoms=True)\n",
    "\n",
    "                jobname = self.subjob_name(lag_strain, eps)\n",
    "\n",
    "                self._structure_dict[jobname] = nstruct\n",
    "\n",
    "        return self._structure_dict\n",
    "\n",
    "    def analyse_structures(self, output_dict):\n",
    "        \"\"\"\n",
    "\n",
    "        Returns:\n",
    "\n",
    "        \"\"\"\n",
    "        self.symmetry_analysis()\n",
    "        epss = self.epss\n",
    "        Lag_strain_list = self.Lag_strain_list\n",
    "\n",
    "        ene0 = None\n",
    "        if 0.0 in epss:\n",
    "            ene0 = output_dict[self.zero_strain_job_name]\n",
    "        self._data[\"e0\"] = ene0\n",
    "        strain_energy = []\n",
    "        for lag_strain in Lag_strain_list:\n",
    "            strain_energy.append([])\n",
    "            for eps in epss:\n",
    "                if not eps == 0.0:\n",
    "                    jobname = self.subjob_name(lag_strain, eps)\n",
    "                    ene = output_dict[jobname]\n",
    "                else:\n",
    "                    ene = ene0\n",
    "                strain_energy[-1].append((eps, ene))\n",
    "        self._data[\"strain_energy\"] = strain_energy\n",
    "        self.fit_elastic_matrix()\n",
    "\n",
    "    def calculate_modulus(self):\n",
    "        \"\"\"\n",
    "\n",
    "        Returns:\n",
    "\n",
    "        \"\"\"\n",
    "        C = self._data['C']\n",
    "\n",
    "        BV = (C[0, 0] + C[1, 1] + C[2, 2] + 2 * (C[0, 1] + C[0, 2] + C[1, 2])) / 9\n",
    "        GV = ((C[0, 0] + C[1, 1] + C[2, 2]) - (C[0, 1] + C[0, 2] + C[1, 2]) + 3 * (C[3, 3] + C[4, 4] + C[5, 5])) / 15\n",
    "        EV = (9 * BV * GV) / (3 * BV + GV)\n",
    "        nuV = (1.5 * BV - GV) / (3 * BV + GV)\n",
    "        self._data[\"BV\"] = BV\n",
    "        self._data[\"GV\"] = GV\n",
    "        self._data[\"EV\"] = EV\n",
    "        self._data[\"nuV\"] = nuV\n",
    "\n",
    "        try:\n",
    "            S = np.linalg.inv(C)\n",
    "\n",
    "            BR = 1 / (S[0, 0] + S[1, 1] + S[2, 2] + 2 * (S[0, 1] + S[0, 2] + S[1, 2]))\n",
    "            GR = 15 / (4 * (S[0, 0] + S[1, 1] + S[2, 2]) -\n",
    "                       4 * (S[0, 1] + S[0, 2] + S[1, 2]) +\n",
    "                       3 * (S[3, 3] + S[4, 4] + S[5, 5]))\n",
    "            ER = (9 * BR * GR) / (3 * BR + GR)\n",
    "            nuR = (1.5 * BR - GR) / (3 * BR + GR)\n",
    "\n",
    "            BH = 0.50 * (BV + BR)\n",
    "            GH = 0.50 * (GV + GR)\n",
    "            EH = (9. * BH * GH) / (3. * BH + GH)\n",
    "            nuH = (1.5 * BH - GH) / (3. * BH + GH)\n",
    "\n",
    "            AVR = 100. * (GV - GR) / (GV + GR)\n",
    "            self._data['S'] = S\n",
    "\n",
    "            self._data['BR'] = BR\n",
    "            self._data['GR'] = GR\n",
    "            self._data['ER'] = ER\n",
    "            self._data['nuR'] = nuR\n",
    "\n",
    "            self._data['BH'] = BH\n",
    "            self._data['GH'] = GH\n",
    "            self._data['EH'] = EH\n",
    "            self._data['nuH'] = nuH\n",
    "\n",
    "            self._data['AVR'] = AVR\n",
    "        except np.linalg.LinAlgError as e:\n",
    "            print(\"LinAlgError:\", e)\n",
    "\n",
    "        eigval = np.linalg.eig(C)\n",
    "        self._data['C_eigval'] = eigval\n",
    "\n",
    "    def fit_elastic_matrix(self):\n",
    "        \"\"\"\n",
    "\n",
    "        Returns:\n",
    "\n",
    "        \"\"\"\n",
    "        strain_ene = self._data[\"strain_energy\"]\n",
    "\n",
    "        v0 = self._data[\"v0\"]\n",
    "        LC = self._data[\"LC\"]\n",
    "        A2 = []\n",
    "        fit_order = int(self.fit_order)\n",
    "        for s_e in strain_ene:\n",
    "            ss = np.transpose(s_e)\n",
    "            coeffs = np.polyfit(ss[0], ss[1] / v0, fit_order)\n",
    "            A2.append(coeffs[fit_order - 2])\n",
    "\n",
    "        A2 = np.array(A2)\n",
    "        C = get_C_from_A2(A2, LC)\n",
    "\n",
    "        for i in range(5):\n",
    "            for j in range(i + 1, 6):\n",
    "                C[j, i] = C[i, j]\n",
    "\n",
    "        CONV = 1e21 / scipy.constants.physical_constants['joule-electron volt relationship'][0]  # From eV/Ang^3 to GPa\n",
    "\n",
    "        C *= CONV\n",
    "        self._data[\"C\"] = C\n",
    "        self._data[\"A2\"] = A2\n",
    "        self.calculate_modulus()\n",
    "\n",
    "    @staticmethod\n",
    "    def subjob_name(i, eps):\n",
    "        \"\"\"\n",
    "\n",
    "        Args:\n",
    "            i:\n",
    "            eps:\n",
    "\n",
    "        Returns:\n",
    "\n",
    "        \"\"\"\n",
    "        return (\"s_%s_e_%.5f\" % (i, eps)).replace(\".\", \"_\").replace(\"-\", \"m\")\n",
    "\n",
    "\n",
    "class ElasticJobGenerator(JobGenerator):\n",
    "    @property\n",
    "    def parameter_list(self):\n",
    "        \"\"\"\n",
    "\n",
    "        Returns:\n",
    "            (list)\n",
    "        \"\"\"\n",
    "        return [[job_name, basis] for job_name, basis in self._job.structure_dict.items()]\n",
    "\n",
    "    @staticmethod\n",
    "    def job_name(parameter):\n",
    "        return str(parameter[0])\n",
    "\n",
    "    def modify_job(self, job, parameter):\n",
    "        job.structure = parameter[1]\n",
    "        return job\n",
    "\n",
    "\n",
    "class ElasticMatrixJob(AtomisticParallelMaster):\n",
    "    def __init__(self, project, job_name=\"elasticmatrix\"):\n",
    "        super(ElasticMatrixJob, self).__init__(project, job_name)\n",
    "        self.__name__ = \"ElasticMatrixJob\"\n",
    "        self.__version__ = '0.0.1'\n",
    "        self.input['num_of_points'] = (5, 'number of sample point per deformation directions')\n",
    "        self.input['fit_order'] = (2, 'order of the fit polynom')\n",
    "        self.input['eps_range'] = (0.005, 'strain variation')\n",
    "        self.input['relax_atoms'] = (True, 'relax atoms in deformed structure')\n",
    "        self.input['sqrt_eta'] = (True, 'calculate self-consistently sqrt of stress matrix eta')\n",
    "        self._data = OrderedDict()\n",
    "        self.structure_dict = OrderedDict()\n",
    "        self.property_calculator = None\n",
    "        self.hdf_storage_group = \"elasticmatrix\"\n",
    "        self._job_generator = ElasticJobGenerator(master=self)\n",
    "\n",
    "    def create_calculator(self):\n",
    "        if self.property_calculator is None:\n",
    "            self.property_calculator = ElasticMatrixCalculator(\n",
    "                basis_ref=self.ref_job.structure.copy(),\n",
    "                num_of_point=int(self.input['num_of_points']),\n",
    "                eps_range=self.input['eps_range'],\n",
    "                sqrt_eta=self.input['sqrt_eta'],\n",
    "                fit_order=int(self.input['fit_order'])\n",
    "            )\n",
    "            self.structure_dict = self.property_calculator.generate_structures()\n",
    "            self._data.update(self.property_calculator._data)\n",
    "\n",
    "    def run_static(self):\n",
    "        self.create_calculator()\n",
    "        if self.input[\"relax_atoms\"]:\n",
    "            self.ref_job.calc_minimize(pressure=None)\n",
    "        else:\n",
    "            self.ref_job.calc_static()\n",
    "        super(ElasticMatrixJob, self).run_static()\n",
    "\n",
    "    def run_if_interactive(self):\n",
    "        self.create_calculator()\n",
    "        if self.input[\"relax_atoms\"]:\n",
    "            self.ref_job.calc_minimize(pressure=None)\n",
    "        else:\n",
    "            self.ref_job.calc_static()\n",
    "        super(ElasticMatrixJob, self).run_if_interactive()\n",
    "\n",
    "    def run_if_refresh(self):\n",
    "        self.create_calculator()\n",
    "        super(ElasticMatrixJob, self).run_if_refresh()\n",
    "\n",
    "    def collect_output(self):\n",
    "        if not self._data:\n",
    "            self.from_hdf()\n",
    "        self.create_calculator()\n",
    "\n",
    "        energies = {}\n",
    "        self._data[\"id\"] = []\n",
    "        if self.server.run_mode.interactive:\n",
    "            child_id = self.child_ids[0]\n",
    "            self._data[\"id\"].append(child_id)\n",
    "            child_job = self.project_hdf5.inspect(child_id)\n",
    "            energies = {job_name: energy for job_name, energy in zip(self.structure_dict.keys(),\n",
    "                                                                     child_job[\"output/generic/energy_tot\"])}\n",
    "        else:\n",
    "            for job_id in self.child_ids:\n",
    "                ham = self.project_hdf5.inspect(job_id)\n",
    "                en = ham[\"output/generic/energy_tot\"][-1]\n",
    "                energies[ham.job_name] = en\n",
    "                self._data[\"id\"].append(ham.job_id)\n",
    "\n",
    "        self.property_calculator.analyse_structures(energies)\n",
    "        self._data.update(self.property_calculator._data)\n",
    "        self.to_hdf()\n",
    "\n",
    "    def from_hdf(self, hdf=None, group_name=None):\n",
    "        \"\"\"\n",
    "        Restore object from hdf5 format\n",
    "        :param hdf: Optional hdf5 file, otherwise self._hdf5 is used.\n",
    "        :param group_name: Optional hdf5 group in the hdf5 file.\n",
    "        \"\"\"\n",
    "        super(ElasticMatrixJob, self).from_hdf(hdf=hdf, group_name=group_name)\n",
    "        try:\n",
    "            with self.project_hdf5.open(\"output\") as hdf5_out:\n",
    "                self._data.update(hdf5_out[self.hdf_storage_group])\n",
    "        except Exception as e:\n",
    "            print(e)\n",
    "\n",
    "    def to_hdf(self, hdf=None, group_name=None):\n",
    "        super(ElasticMatrixJob, self).to_hdf(hdf=hdf, group_name=group_name)\n",
    "        with self.project_hdf5.open(\"output\") as hdf5_out:\n",
    "            hdf5_out[self.hdf_storage_group] = self._data"
   ]
  },
  {
   "cell_type": "markdown",
   "metadata": {},
   "source": [
    "# Minimize Fe"
   ]
  },
  {
   "cell_type": "code",
   "execution_count": 10,
   "metadata": {},
   "outputs": [],
   "source": [
    "lmp_mini = pr.create_job(pr.job_type.Lammps, \"lmp_mini\")"
   ]
  },
  {
   "cell_type": "code",
   "execution_count": 11,
   "metadata": {},
   "outputs": [],
   "source": [
    "lmp_mini.structure = structure"
   ]
  },
  {
   "cell_type": "code",
   "execution_count": 12,
   "metadata": {},
   "outputs": [],
   "source": [
    "lmp_mini.potential = potential"
   ]
  },
  {
   "cell_type": "code",
   "execution_count": 13,
   "metadata": {},
   "outputs": [],
   "source": [
    "lmp_mini.calc_minimize(pressure=0.0, style='sd')"
   ]
  },
  {
   "cell_type": "code",
   "execution_count": 14,
   "metadata": {},
   "outputs": [
    {
     "name": "stdout",
     "output_type": "stream",
     "text": [
      "The job lmp_mini was saved and received the ID: 2554\n"
     ]
    }
   ],
   "source": [
    "lmp_mini.run()"
   ]
  },
  {
   "cell_type": "code",
   "execution_count": 15,
   "metadata": {},
   "outputs": [
    {
     "data": {
      "text/plain": [
       "Fe: [0. 0. 0.]\n",
       "Fe: [1.435 1.435 1.435]\n",
       "pbc: [ True  True  True]\n",
       "cell: \n",
       "Cell([2.87, 2.87, 2.87])"
      ]
     },
     "execution_count": 15,
     "metadata": {},
     "output_type": "execute_result"
    }
   ],
   "source": [
    "structure"
   ]
  },
  {
   "cell_type": "code",
   "execution_count": 16,
   "metadata": {},
   "outputs": [
    {
     "data": {
      "text/plain": [
       "Fe: [0. 0. 0.]\n",
       "Fe: [1.42765619 1.42765619 1.42765619]\n",
       "pbc: [ True  True  True]\n",
       "cell: \n",
       "Cell([[2.8553123895849257, 1.7483745892354798e-16, 1.7483745892354798e-16], [0.0, 2.8553123895849257, 1.7483745892354796e-16], [0.0, 0.0, 2.8553123895849257]])"
      ]
     },
     "execution_count": 16,
     "metadata": {},
     "output_type": "execute_result"
    }
   ],
   "source": [
    "lmp_mini.get_structure()"
   ]
  },
  {
   "cell_type": "markdown",
   "metadata": {},
   "source": [
    "# Elastic constants Fe "
   ]
  },
  {
   "cell_type": "code",
   "execution_count": 17,
   "metadata": {},
   "outputs": [],
   "source": [
    "lmp_elastic = pr.create_job(pr.job_type.Lammps, \"lmp_fe_elastic\")\n",
    "lmp_elastic.structure = lmp_mini.get_structure()\n",
    "lmp_elastic.potential = potential"
   ]
  },
  {
   "cell_type": "code",
   "execution_count": 18,
   "metadata": {},
   "outputs": [],
   "source": [
    "elastic_fe = lmp_elastic.create_job(ElasticMatrixJob, \"elastic_fe\")"
   ]
  },
  {
   "cell_type": "code",
   "execution_count": 19,
   "metadata": {},
   "outputs": [
    {
     "name": "stdout",
     "output_type": "stream",
     "text": [
      "The job elastic_fe was saved and received the ID: 2555\n"
     ]
    },
    {
     "name": "stderr",
     "output_type": "stream",
     "text": [
      "/var/folders/k2/n2qshtcj1ps0tnqwt7017g7h0013yf/T/ipykernel_57075/3354362444.py:506: DeprecationWarning: pyiron_base.jobs.master.parallel._job is deprecated: use self.master instead.\n",
      "  return [[job_name, basis] for job_name, basis in self._job.structure_dict.items()]\n"
     ]
    },
    {
     "name": "stdout",
     "output_type": "stream",
     "text": [
      "The job s_e_0 was saved and received the ID: 2556\n",
      "The job s_01_e_m0_00500 was saved and received the ID: 2557\n",
      "The job s_01_e_m0_00250 was saved and received the ID: 2558\n",
      "The job s_01_e_0_00250 was saved and received the ID: 2559\n",
      "The job s_01_e_0_00500 was saved and received the ID: 2560\n",
      "The job s_08_e_m0_00500 was saved and received the ID: 2561\n",
      "The job s_08_e_m0_00250 was saved and received the ID: 2562\n",
      "The job s_08_e_0_00250 was saved and received the ID: 2563\n",
      "The job s_08_e_0_00500 was saved and received the ID: 2564\n",
      "The job s_23_e_m0_00500 was saved and received the ID: 2565\n",
      "The job s_23_e_m0_00250 was saved and received the ID: 2566\n",
      "The job s_23_e_0_00250 was saved and received the ID: 2567\n",
      "The job s_23_e_0_00500 was saved and received the ID: 2568\n"
     ]
    },
    {
     "name": "stderr",
     "output_type": "stream",
     "text": [
      "/var/folders/k2/n2qshtcj1ps0tnqwt7017g7h0013yf/T/ipykernel_57075/3354362444.py:506: DeprecationWarning: pyiron_base.jobs.master.parallel._job is deprecated: use self.master instead.\n",
      "  return [[job_name, basis] for job_name, basis in self._job.structure_dict.items()]\n"
     ]
    }
   ],
   "source": [
    "elastic_fe.run()"
   ]
  },
  {
   "cell_type": "code",
   "execution_count": 20,
   "metadata": {},
   "outputs": [
    {
     "data": {
      "text/plain": [
       "array([[243.29385155, 145.11165755, 145.11165755,   0.        ,\n",
       "          0.        ,   0.        ],\n",
       "       [145.11165755, 243.29385155, 145.11165755,   0.        ,\n",
       "          0.        ,   0.        ],\n",
       "       [145.11165755, 145.11165755, 243.29385155,   0.        ,\n",
       "          0.        ,   0.        ],\n",
       "       [  0.        ,   0.        ,   0.        , 116.1962267 ,\n",
       "          0.        ,   0.        ],\n",
       "       [  0.        ,   0.        ,   0.        ,   0.        ,\n",
       "        116.1962267 ,   0.        ],\n",
       "       [  0.        ,   0.        ,   0.        ,   0.        ,\n",
       "          0.        , 116.1962267 ]])"
      ]
     },
     "execution_count": 20,
     "metadata": {},
     "output_type": "execute_result"
    }
   ],
   "source": [
    "elastic_fe[\"output/elasticmatrix\"][\"C\"]  # C11=244 C12=146 C44=116"
   ]
  },
  {
   "cell_type": "markdown",
   "metadata": {},
   "source": [
    "# Fe C "
   ]
  },
  {
   "cell_type": "code",
   "execution_count": 21,
   "metadata": {},
   "outputs": [],
   "source": [
    "fe_structure = lmp_mini.get_structure()"
   ]
  },
  {
   "cell_type": "code",
   "execution_count": 22,
   "metadata": {},
   "outputs": [],
   "source": [
    "elastic_matrix_lst = []\n",
    "atom_number_lst = []"
   ]
  },
  {
   "cell_type": "code",
   "execution_count": 23,
   "metadata": {},
   "outputs": [
    {
     "name": "stderr",
     "output_type": "stream",
     "text": [
      "/Users/janssen/PycharmProjects/pyiron_atomistics/pyiron_atomistics/atomistics/structure/atoms.py:2044: UserWarning: Converting ase structure to pyiron before appending the structure\n",
      "  warnings.warn(\n"
     ]
    },
    {
     "name": "stdout",
     "output_type": "stream",
     "text": [
      "The job lmp_mini_fec_2 was saved and received the ID: 2569\n",
      "The job elastic_fec_2 was saved and received the ID: 2570\n"
     ]
    },
    {
     "name": "stderr",
     "output_type": "stream",
     "text": [
      "/var/folders/k2/n2qshtcj1ps0tnqwt7017g7h0013yf/T/ipykernel_57075/3354362444.py:506: DeprecationWarning: pyiron_base.jobs.master.parallel._job is deprecated: use self.master instead.\n",
      "  return [[job_name, basis] for job_name, basis in self._job.structure_dict.items()]\n"
     ]
    },
    {
     "name": "stdout",
     "output_type": "stream",
     "text": [
      "The job s_e_0 was saved and received the ID: 2571\n",
      "The job s_01_e_m0_00500 was saved and received the ID: 2572\n",
      "The job s_01_e_m0_00250 was saved and received the ID: 2573\n",
      "The job s_01_e_0_00250 was saved and received the ID: 2574\n",
      "The job s_01_e_0_00500 was saved and received the ID: 2575\n",
      "The job s_26_e_m0_00500 was saved and received the ID: 2576\n",
      "The job s_26_e_m0_00250 was saved and received the ID: 2577\n",
      "The job s_26_e_0_00250 was saved and received the ID: 2578\n",
      "The job s_26_e_0_00500 was saved and received the ID: 2579\n",
      "The job s_27_e_m0_00500 was saved and received the ID: 2580\n",
      "The job s_27_e_m0_00250 was saved and received the ID: 2581\n",
      "The job s_27_e_0_00250 was saved and received the ID: 2582\n",
      "The job s_27_e_0_00500 was saved and received the ID: 2583\n",
      "The job s_04_e_m0_00500 was saved and received the ID: 2584\n",
      "The job s_04_e_m0_00250 was saved and received the ID: 2585\n",
      "The job s_04_e_0_00250 was saved and received the ID: 2586\n",
      "The job s_04_e_0_00500 was saved and received the ID: 2587\n",
      "The job s_05_e_m0_00500 was saved and received the ID: 2588\n",
      "The job s_05_e_m0_00250 was saved and received the ID: 2589\n",
      "The job s_05_e_0_00250 was saved and received the ID: 2590\n",
      "The job s_05_e_0_00500 was saved and received the ID: 2591\n",
      "The job s_07_e_m0_00500 was saved and received the ID: 2592\n",
      "The job s_07_e_m0_00250 was saved and received the ID: 2593\n",
      "The job s_07_e_0_00250 was saved and received the ID: 2594\n",
      "The job s_07_e_0_00500 was saved and received the ID: 2595\n"
     ]
    },
    {
     "name": "stderr",
     "output_type": "stream",
     "text": [
      "/var/folders/k2/n2qshtcj1ps0tnqwt7017g7h0013yf/T/ipykernel_57075/3354362444.py:506: DeprecationWarning: pyiron_base.jobs.master.parallel._job is deprecated: use self.master instead.\n",
      "  return [[job_name, basis] for job_name, basis in self._job.structure_dict.items()]\n",
      "/Users/janssen/PycharmProjects/pyiron_atomistics/pyiron_atomistics/atomistics/structure/atoms.py:2044: UserWarning: Converting ase structure to pyiron before appending the structure\n",
      "  warnings.warn(\n"
     ]
    },
    {
     "name": "stdout",
     "output_type": "stream",
     "text": [
      "The job lmp_mini_fec_3 was saved and received the ID: 2596\n",
      "The job elastic_fec_3 was saved and received the ID: 2597\n"
     ]
    },
    {
     "name": "stderr",
     "output_type": "stream",
     "text": [
      "/var/folders/k2/n2qshtcj1ps0tnqwt7017g7h0013yf/T/ipykernel_57075/3354362444.py:506: DeprecationWarning: pyiron_base.jobs.master.parallel._job is deprecated: use self.master instead.\n",
      "  return [[job_name, basis] for job_name, basis in self._job.structure_dict.items()]\n"
     ]
    },
    {
     "name": "stdout",
     "output_type": "stream",
     "text": [
      "The job s_e_0 was saved and received the ID: 2598\n",
      "The job s_01_e_m0_00500 was saved and received the ID: 2599\n",
      "The job s_01_e_m0_00250 was saved and received the ID: 2600\n",
      "The job s_01_e_0_00250 was saved and received the ID: 2601\n",
      "The job s_01_e_0_00500 was saved and received the ID: 2602\n",
      "The job s_26_e_m0_00500 was saved and received the ID: 2603\n",
      "The job s_26_e_m0_00250 was saved and received the ID: 2604\n",
      "The job s_26_e_0_00250 was saved and received the ID: 2605\n",
      "The job s_26_e_0_00500 was saved and received the ID: 2606\n",
      "The job s_27_e_m0_00500 was saved and received the ID: 2607\n",
      "The job s_27_e_m0_00250 was saved and received the ID: 2608\n",
      "The job s_27_e_0_00250 was saved and received the ID: 2609\n",
      "The job s_27_e_0_00500 was saved and received the ID: 2610\n",
      "The job s_04_e_m0_00500 was saved and received the ID: 2611\n",
      "The job s_04_e_m0_00250 was saved and received the ID: 2612\n",
      "The job s_04_e_0_00250 was saved and received the ID: 2613\n",
      "The job s_04_e_0_00500 was saved and received the ID: 2614\n",
      "The job s_05_e_m0_00500 was saved and received the ID: 2615\n",
      "The job s_05_e_m0_00250 was saved and received the ID: 2616\n",
      "The job s_05_e_0_00250 was saved and received the ID: 2617\n",
      "The job s_05_e_0_00500 was saved and received the ID: 2618\n",
      "The job s_07_e_m0_00500 was saved and received the ID: 2619\n",
      "The job s_07_e_m0_00250 was saved and received the ID: 2620\n",
      "The job s_07_e_0_00250 was saved and received the ID: 2621\n",
      "The job s_07_e_0_00500 was saved and received the ID: 2622\n"
     ]
    },
    {
     "name": "stderr",
     "output_type": "stream",
     "text": [
      "/var/folders/k2/n2qshtcj1ps0tnqwt7017g7h0013yf/T/ipykernel_57075/3354362444.py:506: DeprecationWarning: pyiron_base.jobs.master.parallel._job is deprecated: use self.master instead.\n",
      "  return [[job_name, basis] for job_name, basis in self._job.structure_dict.items()]\n",
      "/Users/janssen/PycharmProjects/pyiron_atomistics/pyiron_atomistics/atomistics/structure/atoms.py:2044: UserWarning: Converting ase structure to pyiron before appending the structure\n",
      "  warnings.warn(\n"
     ]
    },
    {
     "name": "stdout",
     "output_type": "stream",
     "text": [
      "The job lmp_mini_fec_4 was saved and received the ID: 2623\n",
      "The job elastic_fec_4 was saved and received the ID: 2624\n"
     ]
    },
    {
     "name": "stderr",
     "output_type": "stream",
     "text": [
      "/var/folders/k2/n2qshtcj1ps0tnqwt7017g7h0013yf/T/ipykernel_57075/3354362444.py:506: DeprecationWarning: pyiron_base.jobs.master.parallel._job is deprecated: use self.master instead.\n",
      "  return [[job_name, basis] for job_name, basis in self._job.structure_dict.items()]\n"
     ]
    },
    {
     "name": "stdout",
     "output_type": "stream",
     "text": [
      "The job s_e_0 was saved and received the ID: 2625\n",
      "The job s_01_e_m0_00500 was saved and received the ID: 2626\n",
      "The job s_01_e_m0_00250 was saved and received the ID: 2627\n",
      "The job s_01_e_0_00250 was saved and received the ID: 2628\n",
      "The job s_01_e_0_00500 was saved and received the ID: 2629\n",
      "The job s_26_e_m0_00500 was saved and received the ID: 2630\n",
      "The job s_26_e_m0_00250 was saved and received the ID: 2631\n",
      "The job s_26_e_0_00250 was saved and received the ID: 2632\n",
      "The job s_26_e_0_00500 was saved and received the ID: 2633\n",
      "The job s_27_e_m0_00500 was saved and received the ID: 2634\n",
      "The job s_27_e_m0_00250 was saved and received the ID: 2635\n",
      "The job s_27_e_0_00250 was saved and received the ID: 2636\n",
      "The job s_27_e_0_00500 was saved and received the ID: 2637\n",
      "The job s_04_e_m0_00500 was saved and received the ID: 2638\n",
      "The job s_04_e_m0_00250 was saved and received the ID: 2639\n",
      "The job s_04_e_0_00250 was saved and received the ID: 2640\n",
      "The job s_04_e_0_00500 was saved and received the ID: 2641\n",
      "The job s_05_e_m0_00500 was saved and received the ID: 2642\n",
      "The job s_05_e_m0_00250 was saved and received the ID: 2643\n",
      "The job s_05_e_0_00250 was saved and received the ID: 2644\n",
      "The job s_05_e_0_00500 was saved and received the ID: 2645\n",
      "The job s_07_e_m0_00500 was saved and received the ID: 2646\n",
      "The job s_07_e_m0_00250 was saved and received the ID: 2647\n",
      "The job s_07_e_0_00250 was saved and received the ID: 2648\n",
      "The job s_07_e_0_00500 was saved and received the ID: 2649\n"
     ]
    },
    {
     "name": "stderr",
     "output_type": "stream",
     "text": [
      "/var/folders/k2/n2qshtcj1ps0tnqwt7017g7h0013yf/T/ipykernel_57075/3354362444.py:506: DeprecationWarning: pyiron_base.jobs.master.parallel._job is deprecated: use self.master instead.\n",
      "  return [[job_name, basis] for job_name, basis in self._job.structure_dict.items()]\n",
      "/Users/janssen/PycharmProjects/pyiron_atomistics/pyiron_atomistics/atomistics/structure/atoms.py:2044: UserWarning: Converting ase structure to pyiron before appending the structure\n",
      "  warnings.warn(\n"
     ]
    },
    {
     "name": "stdout",
     "output_type": "stream",
     "text": [
      "The job lmp_mini_fec_5 was saved and received the ID: 2650\n",
      "The job elastic_fec_5 was saved and received the ID: 2651\n"
     ]
    },
    {
     "name": "stderr",
     "output_type": "stream",
     "text": [
      "/var/folders/k2/n2qshtcj1ps0tnqwt7017g7h0013yf/T/ipykernel_57075/3354362444.py:506: DeprecationWarning: pyiron_base.jobs.master.parallel._job is deprecated: use self.master instead.\n",
      "  return [[job_name, basis] for job_name, basis in self._job.structure_dict.items()]\n"
     ]
    },
    {
     "name": "stdout",
     "output_type": "stream",
     "text": [
      "The job s_e_0 was saved and received the ID: 2652\n",
      "The job s_01_e_m0_00500 was saved and received the ID: 2653\n",
      "The job s_01_e_m0_00250 was saved and received the ID: 2654\n",
      "The job s_01_e_0_00250 was saved and received the ID: 2655\n",
      "The job s_01_e_0_00500 was saved and received the ID: 2656\n",
      "The job s_26_e_m0_00500 was saved and received the ID: 2657\n",
      "The job s_26_e_m0_00250 was saved and received the ID: 2658\n",
      "The job s_26_e_0_00250 was saved and received the ID: 2659\n",
      "The job s_26_e_0_00500 was saved and received the ID: 2660\n",
      "The job s_27_e_m0_00500 was saved and received the ID: 2661\n",
      "The job s_27_e_m0_00250 was saved and received the ID: 2662\n",
      "The job s_27_e_0_00250 was saved and received the ID: 2663\n",
      "The job s_27_e_0_00500 was saved and received the ID: 2664\n",
      "The job s_04_e_m0_00500 was saved and received the ID: 2665\n",
      "The job s_04_e_m0_00250 was saved and received the ID: 2666\n",
      "The job s_04_e_0_00250 was saved and received the ID: 2667\n",
      "The job s_04_e_0_00500 was saved and received the ID: 2668\n",
      "The job s_05_e_m0_00500 was saved and received the ID: 2669\n",
      "The job s_05_e_m0_00250 was saved and received the ID: 2670\n",
      "The job s_05_e_0_00250 was saved and received the ID: 2671\n",
      "The job s_05_e_0_00500 was saved and received the ID: 2672\n",
      "The job s_07_e_m0_00500 was saved and received the ID: 2673\n",
      "The job s_07_e_m0_00250 was saved and received the ID: 2674\n",
      "The job s_07_e_0_00250 was saved and received the ID: 2675\n",
      "The job s_07_e_0_00500 was saved and received the ID: 2676\n"
     ]
    },
    {
     "name": "stderr",
     "output_type": "stream",
     "text": [
      "/var/folders/k2/n2qshtcj1ps0tnqwt7017g7h0013yf/T/ipykernel_57075/3354362444.py:506: DeprecationWarning: pyiron_base.jobs.master.parallel._job is deprecated: use self.master instead.\n",
      "  return [[job_name, basis] for job_name, basis in self._job.structure_dict.items()]\n"
     ]
    }
   ],
   "source": [
    "for i in range(6)[2:]:\n",
    "    fe_structure_tmp = fe_structure.copy()\n",
    "    fe_structure_tmp.set_repeat([i,i,i])\n",
    "    c_atom = Atoms(\n",
    "        symbols=['C'],\n",
    "        positions=[[fe_structure_tmp.positions[1][0], fe_structure_tmp.positions[1][1], 0.0]],\n",
    "        cell=fe_structure_tmp.cell,\n",
    "        pbc=fe_structure_tmp.pbc\n",
    "    )\n",
    "    fe_structure_tmp += c_atom\n",
    "    atom_number_lst.append(len(fe_structure_tmp))\n",
    "    lmp_mini_fec = pr.create_job(pr.job_type.Lammps, \"lmp_mini_fec_\" + str(i))\n",
    "    lmp_mini_fec.structure = fe_structure_tmp\n",
    "    lmp_mini_fec.potential = potential\n",
    "    lmp_mini_fec.calc_minimize(pressure=0.0, style='sd')\n",
    "    lmp_mini_fec.run()\n",
    "    lmp_elastic_fec = pr.create_job(pr.job_type.Lammps, \"lmp_fec_elastic_\" + str(i))\n",
    "    lmp_elastic_fec.structure = lmp_mini_fec.get_structure()\n",
    "    lmp_elastic_fec.potential = potential\n",
    "    elastic_fec = lmp_elastic_fec.create_job(ElasticMatrixJob, \"elastic_fec_\" + str(i))\n",
    "    elastic_fec.run()\n",
    "    elastic_matrix_lst.append(elastic_fec[\"output/elasticmatrix\"][\"C\"])"
   ]
  },
  {
   "cell_type": "code",
   "execution_count": 24,
   "metadata": {},
   "outputs": [
    {
     "data": {
      "text/plain": [
       "Text(0.5, 0, 'C atomic %')"
      ]
     },
     "execution_count": 24,
     "metadata": {},
     "output_type": "execute_result"
    },
    {
     "data": {
      "image/png": "[encoded data removed]",
      "text/plain": [
       "<Figure size 640x480 with 1 Axes>"
      ]
     },
     "metadata": {},
     "output_type": "display_data"
    }
   ],
   "source": [
    "plt.plot([1/(a-1)*100 for a in atom_number_lst][:-1], [e[0,0] for e in elastic_matrix_lst][:-1], \"x--\", label=\"C11\")\n",
    "plt.plot([1/(a-1)*100 for a in atom_number_lst][:-1], [e[0,1] for e in elastic_matrix_lst][:-1], \"x--\", label=\"C12\")\n",
    "plt.plot([1/(a-1)*100 for a in atom_number_lst][:-1], [e[0,2] for e in elastic_matrix_lst][:-1], \"x--\", label=\"C13\")\n",
    "plt.plot([1/(a-1)*100 for a in atom_number_lst][:-1], [e[2,2] for e in elastic_matrix_lst][:-1], \"x--\", label=\"C33\")\n",
    "plt.plot([1/(a-1)*100 for a in atom_number_lst][:-1], [e[3,3] for e in elastic_matrix_lst][:-1], \"x--\", label=\"C44\")\n",
    "plt.plot([1/(a-1)*100 for a in atom_number_lst][:-1], [e[5,5] for e in elastic_matrix_lst][:-1], \"x--\", label=\"C66\")\n",
    "plt.legend()\n",
    "plt.title(\"Elastic Constants\")\n",
    "plt.ylabel(\"GPa\")\n",
    "plt.xlabel(\"C atomic %\")"
   ]
  },
  {
   "cell_type": "code",
   "execution_count": null,
   "metadata": {},
   "outputs": [],
   "source": []
  }
 ],
 "metadata": {
  "kernelspec": {
   "display_name": "Python 3 (ipykernel)",
   "language": "python",
   "name": "python3"
  },
  "language_info": {
   "codemirror_mode": {
    "name": "ipython",
    "version": 3
   },
   "file_extension": ".py",
   "mimetype": "text/x-python",
   "name": "python",
   "nbconvert_exporter": "python",
   "pygments_lexer": "ipython3",
   "version": "3.9.13"
  }
 },
 "nbformat": 4,
 "nbformat_minor": 4
}
